{
 "metadata": {
  "language_info": {
   "codemirror_mode": {
    "name": "ipython",
    "version": 3
   },
   "file_extension": ".py",
   "mimetype": "text/x-python",
   "name": "python",
   "nbconvert_exporter": "python",
   "pygments_lexer": "ipython3",
   "version": "3.8.5-final"
  },
  "orig_nbformat": 2,
  "kernelspec": {
   "name": "python_defaultSpec_1598701091831",
   "display_name": "Python 3.8.5 64-bit ('ih': conda)"
  }
 },
 "nbformat": 4,
 "nbformat_minor": 2,
 "cells": [
  {
   "cell_type": "code",
   "execution_count": 1,
   "metadata": {},
   "outputs": [],
   "source": [
    "import pandas as pd"
   ]
  },
  {
   "cell_type": "code",
   "execution_count": 2,
   "metadata": {},
   "outputs": [],
   "source": [
    "sharks = pd.read_csv(\"../input/attacks.csv\", engine=\"python\")"
   ]
  },
  {
   "cell_type": "code",
   "execution_count": 3,
   "metadata": {
    "tags": []
   },
   "outputs": [
    {
     "output_type": "execute_result",
     "data": {
      "text/plain": "  Case Number         Date    Year        Type    Country             Area  \\\n0  2018.06.25  25-Jun-2018  2018.0     Boating        USA       California   \n1  2018.06.18  18-Jun-2018  2018.0  Unprovoked        USA          Georgia   \n2  2018.06.09  09-Jun-2018  2018.0     Invalid        USA           Hawaii   \n3  2018.06.08  08-Jun-2018  2018.0  Unprovoked  AUSTRALIA  New South Wales   \n4  2018.06.04  04-Jun-2018  2018.0    Provoked     MEXICO           Colima   \n\n                         Location     Activity             Name Sex   ...  \\\n0     Oceanside, San Diego County     Paddling      Julie Wolfe    F  ...   \n1  St. Simon Island, Glynn County     Standing  Adyson�McNeely     F  ...   \n2                    Habush, Oahu      Surfing      John Denges    M  ...   \n3              Arrawarra Headland      Surfing             male    M  ...   \n4                        La Ticla  Free diving   Gustavo Ramos     M  ...   \n\n          Species           Investigator or Source                       pdf  \\\n0      White shark                R. Collier, GSAF      2018.06.25-Wolfe.pdf   \n1              NaN  K.McMurray, TrackingSharks.com    2018.06.18-McNeely.pdf   \n2              NaN  K.McMurray, TrackingSharks.com     2018.06.09-Denges.pdf   \n3        2 m shark                  B. Myatt, GSAF  2018.06.08-Arrawarra.pdf   \n4  Tiger shark, 3m                       A .Kipper      2018.06.04-Ramos.pdf   \n\n                                        href formula  \\\n0  http://sharkattackfile.net/spreadsheets/pdf_di...   \n1  http://sharkattackfile.net/spreadsheets/pdf_di...   \n2  http://sharkattackfile.net/spreadsheets/pdf_di...   \n3  http://sharkattackfile.net/spreadsheets/pdf_di...   \n4  http://sharkattackfile.net/spreadsheets/pdf_di...   \n\n                                                href Case Number.1  \\\n0  http://sharkattackfile.net/spreadsheets/pdf_di...    2018.06.25   \n1  http://sharkattackfile.net/spreadsheets/pdf_di...    2018.06.18   \n2  http://sharkattackfile.net/spreadsheets/pdf_di...    2018.06.09   \n3  http://sharkattackfile.net/spreadsheets/pdf_di...    2018.06.08   \n4  http://sharkattackfile.net/spreadsheets/pdf_di...    2018.06.04   \n\n  Case Number.2 original order Unnamed: 22 Unnamed: 23  \n0    2018.06.25         6303.0         NaN         NaN  \n1    2018.06.18         6302.0         NaN         NaN  \n2    2018.06.09         6301.0         NaN         NaN  \n3    2018.06.08         6300.0         NaN         NaN  \n4    2018.06.04         6299.0         NaN         NaN  \n\n[5 rows x 24 columns]",
      "text/html": "<div>\n<style scoped>\n    .dataframe tbody tr th:only-of-type {\n        vertical-align: middle;\n    }\n\n    .dataframe tbody tr th {\n        vertical-align: top;\n    }\n\n    .dataframe thead th {\n        text-align: right;\n    }\n</style>\n<table border=\"1\" class=\"dataframe\">\n  <thead>\n    <tr style=\"text-align: right;\">\n      <th></th>\n      <th>Case Number</th>\n      <th>Date</th>\n      <th>Year</th>\n      <th>Type</th>\n      <th>Country</th>\n      <th>Area</th>\n      <th>Location</th>\n      <th>Activity</th>\n      <th>Name</th>\n      <th>Sex</th>\n      <th>...</th>\n      <th>Species</th>\n      <th>Investigator or Source</th>\n      <th>pdf</th>\n      <th>href formula</th>\n      <th>href</th>\n      <th>Case Number.1</th>\n      <th>Case Number.2</th>\n      <th>original order</th>\n      <th>Unnamed: 22</th>\n      <th>Unnamed: 23</th>\n    </tr>\n  </thead>\n  <tbody>\n    <tr>\n      <th>0</th>\n      <td>2018.06.25</td>\n      <td>25-Jun-2018</td>\n      <td>2018.0</td>\n      <td>Boating</td>\n      <td>USA</td>\n      <td>California</td>\n      <td>Oceanside, San Diego County</td>\n      <td>Paddling</td>\n      <td>Julie Wolfe</td>\n      <td>F</td>\n      <td>...</td>\n      <td>White shark</td>\n      <td>R. Collier, GSAF</td>\n      <td>2018.06.25-Wolfe.pdf</td>\n      <td>http://sharkattackfile.net/spreadsheets/pdf_di...</td>\n      <td>http://sharkattackfile.net/spreadsheets/pdf_di...</td>\n      <td>2018.06.25</td>\n      <td>2018.06.25</td>\n      <td>6303.0</td>\n      <td>NaN</td>\n      <td>NaN</td>\n    </tr>\n    <tr>\n      <th>1</th>\n      <td>2018.06.18</td>\n      <td>18-Jun-2018</td>\n      <td>2018.0</td>\n      <td>Unprovoked</td>\n      <td>USA</td>\n      <td>Georgia</td>\n      <td>St. Simon Island, Glynn County</td>\n      <td>Standing</td>\n      <td>Adyson�McNeely</td>\n      <td>F</td>\n      <td>...</td>\n      <td>NaN</td>\n      <td>K.McMurray, TrackingSharks.com</td>\n      <td>2018.06.18-McNeely.pdf</td>\n      <td>http://sharkattackfile.net/spreadsheets/pdf_di...</td>\n      <td>http://sharkattackfile.net/spreadsheets/pdf_di...</td>\n      <td>2018.06.18</td>\n      <td>2018.06.18</td>\n      <td>6302.0</td>\n      <td>NaN</td>\n      <td>NaN</td>\n    </tr>\n    <tr>\n      <th>2</th>\n      <td>2018.06.09</td>\n      <td>09-Jun-2018</td>\n      <td>2018.0</td>\n      <td>Invalid</td>\n      <td>USA</td>\n      <td>Hawaii</td>\n      <td>Habush, Oahu</td>\n      <td>Surfing</td>\n      <td>John Denges</td>\n      <td>M</td>\n      <td>...</td>\n      <td>NaN</td>\n      <td>K.McMurray, TrackingSharks.com</td>\n      <td>2018.06.09-Denges.pdf</td>\n      <td>http://sharkattackfile.net/spreadsheets/pdf_di...</td>\n      <td>http://sharkattackfile.net/spreadsheets/pdf_di...</td>\n      <td>2018.06.09</td>\n      <td>2018.06.09</td>\n      <td>6301.0</td>\n      <td>NaN</td>\n      <td>NaN</td>\n    </tr>\n    <tr>\n      <th>3</th>\n      <td>2018.06.08</td>\n      <td>08-Jun-2018</td>\n      <td>2018.0</td>\n      <td>Unprovoked</td>\n      <td>AUSTRALIA</td>\n      <td>New South Wales</td>\n      <td>Arrawarra Headland</td>\n      <td>Surfing</td>\n      <td>male</td>\n      <td>M</td>\n      <td>...</td>\n      <td>2 m shark</td>\n      <td>B. Myatt, GSAF</td>\n      <td>2018.06.08-Arrawarra.pdf</td>\n      <td>http://sharkattackfile.net/spreadsheets/pdf_di...</td>\n      <td>http://sharkattackfile.net/spreadsheets/pdf_di...</td>\n      <td>2018.06.08</td>\n      <td>2018.06.08</td>\n      <td>6300.0</td>\n      <td>NaN</td>\n      <td>NaN</td>\n    </tr>\n    <tr>\n      <th>4</th>\n      <td>2018.06.04</td>\n      <td>04-Jun-2018</td>\n      <td>2018.0</td>\n      <td>Provoked</td>\n      <td>MEXICO</td>\n      <td>Colima</td>\n      <td>La Ticla</td>\n      <td>Free diving</td>\n      <td>Gustavo Ramos</td>\n      <td>M</td>\n      <td>...</td>\n      <td>Tiger shark, 3m</td>\n      <td>A .Kipper</td>\n      <td>2018.06.04-Ramos.pdf</td>\n      <td>http://sharkattackfile.net/spreadsheets/pdf_di...</td>\n      <td>http://sharkattackfile.net/spreadsheets/pdf_di...</td>\n      <td>2018.06.04</td>\n      <td>2018.06.04</td>\n      <td>6299.0</td>\n      <td>NaN</td>\n      <td>NaN</td>\n    </tr>\n  </tbody>\n</table>\n<p>5 rows × 24 columns</p>\n</div>"
     },
     "metadata": {},
     "execution_count": 3
    }
   ],
   "source": [
    "# show first 5 rows, explore\n",
    "sharks.head()"
   ]
  },
  {
   "cell_type": "code",
   "execution_count": 4,
   "metadata": {},
   "outputs": [],
   "source": [
    "# drop unuseful columns: case number = date, year unuseful, name unuseful (anonimous), rest columns not of interest\n",
    "unuseful_cols = [\"Case Number\", \"Year\", \"Name\"] + sharks.loc[:, \"pdf\":\"Unnamed: 23\"].columns.to_list()\n",
    "sharks.drop(columns=unuseful_cols, inplace=True)"
   ]
  },
  {
   "cell_type": "code",
   "execution_count": 5,
   "metadata": {},
   "outputs": [],
   "source": [
    "# rename cols\n",
    "sharks.rename(columns={\"Fatal (Y/N)\": \"Fatal\", \"Investigator or Source\": \"Source\"}, inplace=True)"
   ]
  },
  {
   "cell_type": "code",
   "execution_count": 6,
   "metadata": {
    "tags": []
   },
   "outputs": [
    {
     "output_type": "stream",
     "name": "stdout",
     "text": "<class 'pandas.core.frame.DataFrame'>\nRangeIndex: 25723 entries, 0 to 25722\nData columns (total 13 columns):\n #   Column    Non-Null Count  Dtype \n---  ------    --------------  ----- \n 0   Date      6302 non-null   object\n 1   Type      6298 non-null   object\n 2   Country   6252 non-null   object\n 3   Area      5847 non-null   object\n 4   Location  5762 non-null   object\n 5   Activity  5758 non-null   object\n 6   Sex       5737 non-null   object\n 7   Age       3471 non-null   object\n 8   Injury    6274 non-null   object\n 9   Fatal     5763 non-null   object\n 10  Time      2948 non-null   object\n 11  Species   3464 non-null   object\n 12  Source    6285 non-null   object\ndtypes: object(13)\nmemory usage: 2.6+ MB\n"
    }
   ],
   "source": [
    "# 25723 entries but a lot of null entries (look at non-null count)\n",
    "sharks.info()"
   ]
  },
  {
   "cell_type": "code",
   "execution_count": 7,
   "metadata": {
    "tags": []
   },
   "outputs": [
    {
     "output_type": "stream",
     "name": "stdout",
     "text": "6284\n"
    }
   ],
   "source": [
    "# keep entries with at least 7 non-null values \n",
    "sharks.dropna(thresh=7, inplace=True)\n",
    "print(sharks.shape[0]) # no of rows after clean"
   ]
  },
  {
   "cell_type": "code",
   "execution_count": 8,
   "metadata": {},
   "outputs": [
    {
     "output_type": "execute_result",
     "data": {
      "text/plain": "          Date        Type    Country             Area  \\\n0  25-Jun-2018     Boating        USA       California   \n1  18-Jun-2018  Unprovoked        USA          Georgia   \n2  09-Jun-2018     Invalid        USA           Hawaii   \n3  08-Jun-2018  Unprovoked  AUSTRALIA  New South Wales   \n4  04-Jun-2018    Provoked     MEXICO           Colima   \n\n                         Location     Activity Sex   Age  \\\n0     Oceanside, San Diego County     Paddling    F   57   \n1  St. Simon Island, Glynn County     Standing    F   11   \n2                    Habush, Oahu      Surfing    M   48   \n3              Arrawarra Headland      Surfing    M  NaN   \n4                        La Ticla  Free diving    M  NaN   \n\n                                              Injury Fatal           Time  \\\n0  No injury to occupant, outrigger canoe and pad...     N          18h00   \n1                         Minor injury to left thigh     N  14h00  -15h00   \n2       Injury to left lower leg from surfboard skeg     N          07h45   \n3                          Minor injury to lower leg     N            NaN   \n4  Lacerations to leg & hand shark PROVOKED INCIDENT     N            NaN   \n\n          Species                           Source  \n0      White shark                R. Collier, GSAF  \n1              NaN  K.McMurray, TrackingSharks.com  \n2              NaN  K.McMurray, TrackingSharks.com  \n3        2 m shark                  B. Myatt, GSAF  \n4  Tiger shark, 3m                       A .Kipper  ",
      "text/html": "<div>\n<style scoped>\n    .dataframe tbody tr th:only-of-type {\n        vertical-align: middle;\n    }\n\n    .dataframe tbody tr th {\n        vertical-align: top;\n    }\n\n    .dataframe thead th {\n        text-align: right;\n    }\n</style>\n<table border=\"1\" class=\"dataframe\">\n  <thead>\n    <tr style=\"text-align: right;\">\n      <th></th>\n      <th>Date</th>\n      <th>Type</th>\n      <th>Country</th>\n      <th>Area</th>\n      <th>Location</th>\n      <th>Activity</th>\n      <th>Sex</th>\n      <th>Age</th>\n      <th>Injury</th>\n      <th>Fatal</th>\n      <th>Time</th>\n      <th>Species</th>\n      <th>Source</th>\n    </tr>\n  </thead>\n  <tbody>\n    <tr>\n      <th>0</th>\n      <td>25-Jun-2018</td>\n      <td>Boating</td>\n      <td>USA</td>\n      <td>California</td>\n      <td>Oceanside, San Diego County</td>\n      <td>Paddling</td>\n      <td>F</td>\n      <td>57</td>\n      <td>No injury to occupant, outrigger canoe and pad...</td>\n      <td>N</td>\n      <td>18h00</td>\n      <td>White shark</td>\n      <td>R. Collier, GSAF</td>\n    </tr>\n    <tr>\n      <th>1</th>\n      <td>18-Jun-2018</td>\n      <td>Unprovoked</td>\n      <td>USA</td>\n      <td>Georgia</td>\n      <td>St. Simon Island, Glynn County</td>\n      <td>Standing</td>\n      <td>F</td>\n      <td>11</td>\n      <td>Minor injury to left thigh</td>\n      <td>N</td>\n      <td>14h00  -15h00</td>\n      <td>NaN</td>\n      <td>K.McMurray, TrackingSharks.com</td>\n    </tr>\n    <tr>\n      <th>2</th>\n      <td>09-Jun-2018</td>\n      <td>Invalid</td>\n      <td>USA</td>\n      <td>Hawaii</td>\n      <td>Habush, Oahu</td>\n      <td>Surfing</td>\n      <td>M</td>\n      <td>48</td>\n      <td>Injury to left lower leg from surfboard skeg</td>\n      <td>N</td>\n      <td>07h45</td>\n      <td>NaN</td>\n      <td>K.McMurray, TrackingSharks.com</td>\n    </tr>\n    <tr>\n      <th>3</th>\n      <td>08-Jun-2018</td>\n      <td>Unprovoked</td>\n      <td>AUSTRALIA</td>\n      <td>New South Wales</td>\n      <td>Arrawarra Headland</td>\n      <td>Surfing</td>\n      <td>M</td>\n      <td>NaN</td>\n      <td>Minor injury to lower leg</td>\n      <td>N</td>\n      <td>NaN</td>\n      <td>2 m shark</td>\n      <td>B. Myatt, GSAF</td>\n    </tr>\n    <tr>\n      <th>4</th>\n      <td>04-Jun-2018</td>\n      <td>Provoked</td>\n      <td>MEXICO</td>\n      <td>Colima</td>\n      <td>La Ticla</td>\n      <td>Free diving</td>\n      <td>M</td>\n      <td>NaN</td>\n      <td>Lacerations to leg &amp; hand shark PROVOKED INCIDENT</td>\n      <td>N</td>\n      <td>NaN</td>\n      <td>Tiger shark, 3m</td>\n      <td>A .Kipper</td>\n    </tr>\n  </tbody>\n</table>\n</div>"
     },
     "metadata": {},
     "execution_count": 8
    }
   ],
   "source": [
    "sharks.head()"
   ]
  },
  {
   "cell_type": "code",
   "execution_count": null,
   "metadata": {},
   "outputs": [],
   "source": [
    "# regex clean, set DateTimeIndex??"
   ]
  },
  {
   "cell_type": "code",
   "execution_count": 9,
   "metadata": {},
   "outputs": [
    {
     "output_type": "error",
     "ename": "AttributeError",
     "evalue": "module 'pandas' has no attribute 'expor'",
     "traceback": [
      "\u001b[0;31m---------------------------------------------------------------------------\u001b[0m",
      "\u001b[0;31mAttributeError\u001b[0m                            Traceback (most recent call last)",
      "\u001b[0;32m<ipython-input-9-512673975e64>\u001b[0m in \u001b[0;36m<module>\u001b[0;34m\u001b[0m\n\u001b[0;32m----> 1\u001b[0;31m \u001b[0mpd\u001b[0m\u001b[0;34m.\u001b[0m\u001b[0mexpor\u001b[0m\u001b[0;34m\u001b[0m\u001b[0;34m\u001b[0m\u001b[0m\n\u001b[0m",
      "\u001b[0;32m~/miniconda3/envs/ih/lib/python3.8/site-packages/pandas/__init__.py\u001b[0m in \u001b[0;36m__getattr__\u001b[0;34m(name)\u001b[0m\n\u001b[1;32m    256\u001b[0m             \u001b[0;32mreturn\u001b[0m \u001b[0m_SparseArray\u001b[0m\u001b[0;34m\u001b[0m\u001b[0;34m\u001b[0m\u001b[0m\n\u001b[1;32m    257\u001b[0m \u001b[0;34m\u001b[0m\u001b[0m\n\u001b[0;32m--> 258\u001b[0;31m         \u001b[0;32mraise\u001b[0m \u001b[0mAttributeError\u001b[0m\u001b[0;34m(\u001b[0m\u001b[0;34mf\"module 'pandas' has no attribute '{name}'\"\u001b[0m\u001b[0;34m)\u001b[0m\u001b[0;34m\u001b[0m\u001b[0;34m\u001b[0m\u001b[0m\n\u001b[0m\u001b[1;32m    259\u001b[0m \u001b[0;34m\u001b[0m\u001b[0m\n\u001b[1;32m    260\u001b[0m \u001b[0;34m\u001b[0m\u001b[0m\n",
      "\u001b[0;31mAttributeError\u001b[0m: module 'pandas' has no attribute 'expor'"
     ]
    }
   ],
   "source": [
    "#sharks.to_csv(\"../output/sharks_clean.csv\")"
   ]
  }
 ]
}