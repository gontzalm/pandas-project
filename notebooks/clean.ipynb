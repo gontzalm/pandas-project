{
 "metadata": {
  "language_info": {
   "codemirror_mode": {
    "name": "ipython",
    "version": 3
   },
   "file_extension": ".py",
   "mimetype": "text/x-python",
   "name": "python",
   "nbconvert_exporter": "python",
   "pygments_lexer": "ipython3",
   "version": "3.8.5-final"
  },
  "orig_nbformat": 2,
  "kernelspec": {
   "name": "python_defaultSpec_1598896099782",
   "display_name": "Python 3.8.5 64-bit ('ih': conda)"
  }
 },
 "nbformat": 4,
 "nbformat_minor": 2,
 "cells": [
  {
   "cell_type": "code",
   "execution_count": 1,
   "metadata": {},
   "outputs": [],
   "source": [
    "import pandas as pd\n",
    "import numpy as np"
   ]
  },
  {
   "cell_type": "code",
   "execution_count": 2,
   "metadata": {},
   "outputs": [],
   "source": [
    "sharks = pd.read_csv(\"../input/attacks.csv\", engine=\"python\")"
   ]
  },
  {
   "cell_type": "code",
   "execution_count": 3,
   "metadata": {
    "tags": []
   },
   "outputs": [
    {
     "output_type": "stream",
     "name": "stdout",
     "text": "<class 'pandas.core.frame.DataFrame'>\nRangeIndex: 25723 entries, 0 to 25722\nData columns (total 24 columns):\n #   Column                  Non-Null Count  Dtype  \n---  ------                  --------------  -----  \n 0   Case Number             8702 non-null   object \n 1   Date                    6302 non-null   object \n 2   Year                    6300 non-null   float64\n 3   Type                    6298 non-null   object \n 4   Country                 6252 non-null   object \n 5   Area                    5847 non-null   object \n 6   Location                5762 non-null   object \n 7   Activity                5758 non-null   object \n 8   Name                    6092 non-null   object \n 9   Sex                     5737 non-null   object \n 10  Age                     3471 non-null   object \n 11  Injury                  6274 non-null   object \n 12  Fatal (Y/N)             5763 non-null   object \n 13  Time                    2948 non-null   object \n 14  Species                 3464 non-null   object \n 15  Investigator or Source  6285 non-null   object \n 16  pdf                     6302 non-null   object \n 17  href formula            6301 non-null   object \n 18  href                    6302 non-null   object \n 19  Case Number.1           6302 non-null   object \n 20  Case Number.2           6302 non-null   object \n 21  original order          6309 non-null   float64\n 22  Unnamed: 22             1 non-null      object \n 23  Unnamed: 23             2 non-null      object \ndtypes: float64(2), object(22)\nmemory usage: 4.7+ MB\n"
    }
   ],
   "source": [
    "# 25723 entries but a lot of null entries (look at non-null count)\n",
    "sharks.info()"
   ]
  },
  {
   "cell_type": "code",
   "execution_count": 4,
   "metadata": {
    "tags": []
   },
   "outputs": [
    {
     "output_type": "execute_result",
     "data": {
      "text/plain": "  Case Number         Date    Year        Type    Country             Area  \\\n0  2018.06.25  25-Jun-2018  2018.0     Boating        USA       California   \n1  2018.06.18  18-Jun-2018  2018.0  Unprovoked        USA          Georgia   \n2  2018.06.09  09-Jun-2018  2018.0     Invalid        USA           Hawaii   \n3  2018.06.08  08-Jun-2018  2018.0  Unprovoked  AUSTRALIA  New South Wales   \n4  2018.06.04  04-Jun-2018  2018.0    Provoked     MEXICO           Colima   \n\n                         Location     Activity             Name Sex   ...  \\\n0     Oceanside, San Diego County     Paddling      Julie Wolfe    F  ...   \n1  St. Simon Island, Glynn County     Standing  Adyson�McNeely     F  ...   \n2                    Habush, Oahu      Surfing      John Denges    M  ...   \n3              Arrawarra Headland      Surfing             male    M  ...   \n4                        La Ticla  Free diving   Gustavo Ramos     M  ...   \n\n          Species           Investigator or Source                       pdf  \\\n0      White shark                R. Collier, GSAF      2018.06.25-Wolfe.pdf   \n1              NaN  K.McMurray, TrackingSharks.com    2018.06.18-McNeely.pdf   \n2              NaN  K.McMurray, TrackingSharks.com     2018.06.09-Denges.pdf   \n3        2 m shark                  B. Myatt, GSAF  2018.06.08-Arrawarra.pdf   \n4  Tiger shark, 3m                       A .Kipper      2018.06.04-Ramos.pdf   \n\n                                        href formula  \\\n0  http://sharkattackfile.net/spreadsheets/pdf_di...   \n1  http://sharkattackfile.net/spreadsheets/pdf_di...   \n2  http://sharkattackfile.net/spreadsheets/pdf_di...   \n3  http://sharkattackfile.net/spreadsheets/pdf_di...   \n4  http://sharkattackfile.net/spreadsheets/pdf_di...   \n\n                                                href Case Number.1  \\\n0  http://sharkattackfile.net/spreadsheets/pdf_di...    2018.06.25   \n1  http://sharkattackfile.net/spreadsheets/pdf_di...    2018.06.18   \n2  http://sharkattackfile.net/spreadsheets/pdf_di...    2018.06.09   \n3  http://sharkattackfile.net/spreadsheets/pdf_di...    2018.06.08   \n4  http://sharkattackfile.net/spreadsheets/pdf_di...    2018.06.04   \n\n  Case Number.2 original order Unnamed: 22 Unnamed: 23  \n0    2018.06.25         6303.0         NaN         NaN  \n1    2018.06.18         6302.0         NaN         NaN  \n2    2018.06.09         6301.0         NaN         NaN  \n3    2018.06.08         6300.0         NaN         NaN  \n4    2018.06.04         6299.0         NaN         NaN  \n\n[5 rows x 24 columns]",
      "text/html": "<div>\n<style scoped>\n    .dataframe tbody tr th:only-of-type {\n        vertical-align: middle;\n    }\n\n    .dataframe tbody tr th {\n        vertical-align: top;\n    }\n\n    .dataframe thead th {\n        text-align: right;\n    }\n</style>\n<table border=\"1\" class=\"dataframe\">\n  <thead>\n    <tr style=\"text-align: right;\">\n      <th></th>\n      <th>Case Number</th>\n      <th>Date</th>\n      <th>Year</th>\n      <th>Type</th>\n      <th>Country</th>\n      <th>Area</th>\n      <th>Location</th>\n      <th>Activity</th>\n      <th>Name</th>\n      <th>Sex</th>\n      <th>...</th>\n      <th>Species</th>\n      <th>Investigator or Source</th>\n      <th>pdf</th>\n      <th>href formula</th>\n      <th>href</th>\n      <th>Case Number.1</th>\n      <th>Case Number.2</th>\n      <th>original order</th>\n      <th>Unnamed: 22</th>\n      <th>Unnamed: 23</th>\n    </tr>\n  </thead>\n  <tbody>\n    <tr>\n      <th>0</th>\n      <td>2018.06.25</td>\n      <td>25-Jun-2018</td>\n      <td>2018.0</td>\n      <td>Boating</td>\n      <td>USA</td>\n      <td>California</td>\n      <td>Oceanside, San Diego County</td>\n      <td>Paddling</td>\n      <td>Julie Wolfe</td>\n      <td>F</td>\n      <td>...</td>\n      <td>White shark</td>\n      <td>R. Collier, GSAF</td>\n      <td>2018.06.25-Wolfe.pdf</td>\n      <td>http://sharkattackfile.net/spreadsheets/pdf_di...</td>\n      <td>http://sharkattackfile.net/spreadsheets/pdf_di...</td>\n      <td>2018.06.25</td>\n      <td>2018.06.25</td>\n      <td>6303.0</td>\n      <td>NaN</td>\n      <td>NaN</td>\n    </tr>\n    <tr>\n      <th>1</th>\n      <td>2018.06.18</td>\n      <td>18-Jun-2018</td>\n      <td>2018.0</td>\n      <td>Unprovoked</td>\n      <td>USA</td>\n      <td>Georgia</td>\n      <td>St. Simon Island, Glynn County</td>\n      <td>Standing</td>\n      <td>Adyson�McNeely</td>\n      <td>F</td>\n      <td>...</td>\n      <td>NaN</td>\n      <td>K.McMurray, TrackingSharks.com</td>\n      <td>2018.06.18-McNeely.pdf</td>\n      <td>http://sharkattackfile.net/spreadsheets/pdf_di...</td>\n      <td>http://sharkattackfile.net/spreadsheets/pdf_di...</td>\n      <td>2018.06.18</td>\n      <td>2018.06.18</td>\n      <td>6302.0</td>\n      <td>NaN</td>\n      <td>NaN</td>\n    </tr>\n    <tr>\n      <th>2</th>\n      <td>2018.06.09</td>\n      <td>09-Jun-2018</td>\n      <td>2018.0</td>\n      <td>Invalid</td>\n      <td>USA</td>\n      <td>Hawaii</td>\n      <td>Habush, Oahu</td>\n      <td>Surfing</td>\n      <td>John Denges</td>\n      <td>M</td>\n      <td>...</td>\n      <td>NaN</td>\n      <td>K.McMurray, TrackingSharks.com</td>\n      <td>2018.06.09-Denges.pdf</td>\n      <td>http://sharkattackfile.net/spreadsheets/pdf_di...</td>\n      <td>http://sharkattackfile.net/spreadsheets/pdf_di...</td>\n      <td>2018.06.09</td>\n      <td>2018.06.09</td>\n      <td>6301.0</td>\n      <td>NaN</td>\n      <td>NaN</td>\n    </tr>\n    <tr>\n      <th>3</th>\n      <td>2018.06.08</td>\n      <td>08-Jun-2018</td>\n      <td>2018.0</td>\n      <td>Unprovoked</td>\n      <td>AUSTRALIA</td>\n      <td>New South Wales</td>\n      <td>Arrawarra Headland</td>\n      <td>Surfing</td>\n      <td>male</td>\n      <td>M</td>\n      <td>...</td>\n      <td>2 m shark</td>\n      <td>B. Myatt, GSAF</td>\n      <td>2018.06.08-Arrawarra.pdf</td>\n      <td>http://sharkattackfile.net/spreadsheets/pdf_di...</td>\n      <td>http://sharkattackfile.net/spreadsheets/pdf_di...</td>\n      <td>2018.06.08</td>\n      <td>2018.06.08</td>\n      <td>6300.0</td>\n      <td>NaN</td>\n      <td>NaN</td>\n    </tr>\n    <tr>\n      <th>4</th>\n      <td>2018.06.04</td>\n      <td>04-Jun-2018</td>\n      <td>2018.0</td>\n      <td>Provoked</td>\n      <td>MEXICO</td>\n      <td>Colima</td>\n      <td>La Ticla</td>\n      <td>Free diving</td>\n      <td>Gustavo Ramos</td>\n      <td>M</td>\n      <td>...</td>\n      <td>Tiger shark, 3m</td>\n      <td>A .Kipper</td>\n      <td>2018.06.04-Ramos.pdf</td>\n      <td>http://sharkattackfile.net/spreadsheets/pdf_di...</td>\n      <td>http://sharkattackfile.net/spreadsheets/pdf_di...</td>\n      <td>2018.06.04</td>\n      <td>2018.06.04</td>\n      <td>6299.0</td>\n      <td>NaN</td>\n      <td>NaN</td>\n    </tr>\n  </tbody>\n</table>\n<p>5 rows × 24 columns</p>\n</div>"
     },
     "metadata": {},
     "execution_count": 4
    }
   ],
   "source": [
    "# show first 5 rows, explore\n",
    "sharks.head()"
   ]
  },
  {
   "cell_type": "code",
   "execution_count": 5,
   "metadata": {},
   "outputs": [
    {
     "output_type": "execute_result",
     "data": {
      "text/plain": "Index(['Date', 'Country', 'Area', 'Activity', 'Injury', 'Fatal (Y/N)',\n       'Species '],\n      dtype='object')"
     },
     "metadata": {},
     "execution_count": 5
    }
   ],
   "source": [
    "# drop unuseful columns: case number = date, year unuseful, name unuseful (anonimous), rest columns not of interest\n",
    "unuseful_cols = [\"Case Number\", \"Year\", \"Type\", \"Location\", \"Name\", \"Sex \", \"Age\", \"Time\"] + sharks.loc[:, \"Investigator or Source\":\"Unnamed: 23\"].columns.to_list()\n",
    "sharks.drop(columns=unuseful_cols, inplace=True)\n",
    "sharks.columns"
   ]
  },
  {
   "cell_type": "code",
   "execution_count": 6,
   "metadata": {},
   "outputs": [],
   "source": [
    "# rename cols and strip cols\n",
    "sharks.rename(columns={\"Fatal (Y/N)\": \"Fatal\"}, inplace=True)\n",
    "sharks.columns = [s.strip() for s in sharks.columns]"
   ]
  },
  {
   "cell_type": "code",
   "execution_count": 7,
   "metadata": {},
   "outputs": [
    {
     "output_type": "execute_result",
     "data": {
      "text/plain": "20374"
     },
     "metadata": {},
     "execution_count": 7
    }
   ],
   "source": [
    "# how many dates are invalid?\n",
    "sharks[\"Date\"].str.extract(\"(\\d{2}-\\w{3}-\\d{4})\", expand=False).isnull().sum()"
   ]
  },
  {
   "cell_type": "code",
   "execution_count": 8,
   "metadata": {},
   "outputs": [],
   "source": [
    "sharks[\"Date\"] = sharks[\"Date\"].str.extract(\"(\\d{2}-\\w{3}-\\d{4})\")\n",
    "sharks.dropna(subset=[\"Date\"], inplace=True)"
   ]
  },
  {
   "cell_type": "code",
   "execution_count": 9,
   "metadata": {},
   "outputs": [
    {
     "output_type": "execute_result",
     "data": {
      "text/plain": "DatetimeIndex(['1703-03-26', '1738-04-06', '1742-12-17', '1751-07-27',\n               '1753-10-27', '1771-07-12', '1780-08-08', '1783-03-02',\n               '1784-12-12', '1785-09-26',\n               ...\n               '2018-05-26', '2018-05-27', '2018-06-03', '2018-06-03',\n               '2018-06-04', '2018-06-08', '2018-06-09', '2018-06-18',\n               '2018-06-25',        'NaT'],\n              dtype='datetime64[ns]', name='Date', length=5349, freq=None)"
     },
     "metadata": {},
     "execution_count": 9
    }
   ],
   "source": [
    "sharks.index = pd.to_datetime(sharks[\"Date\"], errors=\"coerce\")\n",
    "sharks.drop(columns=\"Date\", inplace=True)\n",
    "sharks.sort_index(inplace=True)\n",
    "sharks.index"
   ]
  },
  {
   "cell_type": "code",
   "execution_count": 10,
   "metadata": {},
   "outputs": [],
   "source": [
    "sharks.drop(index=pd.NaT, inplace=True)"
   ]
  },
  {
   "cell_type": "code",
   "execution_count": 11,
   "metadata": {
    "tags": []
   },
   "outputs": [
    {
     "output_type": "execute_result",
     "data": {
      "text/plain": "             Country             Area        Activity  \\\nDate                                                    \n1703-03-26  BARBADOS  Southwest coast        Swimming   \n1738-04-06     ITALY           Sicily        Swimming   \n1742-12-17       NaN              NaN        Swimming   \n1751-07-27       USA    Massachusetts        Swimming   \n1753-10-27   JAMAICA              NaN  Fell overboard   \n\n                                                       Injury Fatal Species  \nDate                                                                         \n1703-03-26  Hand and foot severely bitten, surgically ampu...     N     NaN  \n1738-04-06                                              FATAL     Y     NaN  \n1742-12-17                                              FATAL     Y     NaN  \n1751-07-27                                              FATAL     Y     NaN  \n1753-10-27                                              FATAL     Y     NaN  ",
      "text/html": "<div>\n<style scoped>\n    .dataframe tbody tr th:only-of-type {\n        vertical-align: middle;\n    }\n\n    .dataframe tbody tr th {\n        vertical-align: top;\n    }\n\n    .dataframe thead th {\n        text-align: right;\n    }\n</style>\n<table border=\"1\" class=\"dataframe\">\n  <thead>\n    <tr style=\"text-align: right;\">\n      <th></th>\n      <th>Country</th>\n      <th>Area</th>\n      <th>Activity</th>\n      <th>Injury</th>\n      <th>Fatal</th>\n      <th>Species</th>\n    </tr>\n    <tr>\n      <th>Date</th>\n      <th></th>\n      <th></th>\n      <th></th>\n      <th></th>\n      <th></th>\n      <th></th>\n    </tr>\n  </thead>\n  <tbody>\n    <tr>\n      <th>1703-03-26</th>\n      <td>BARBADOS</td>\n      <td>Southwest coast</td>\n      <td>Swimming</td>\n      <td>Hand and foot severely bitten, surgically ampu...</td>\n      <td>N</td>\n      <td>NaN</td>\n    </tr>\n    <tr>\n      <th>1738-04-06</th>\n      <td>ITALY</td>\n      <td>Sicily</td>\n      <td>Swimming</td>\n      <td>FATAL</td>\n      <td>Y</td>\n      <td>NaN</td>\n    </tr>\n    <tr>\n      <th>1742-12-17</th>\n      <td>NaN</td>\n      <td>NaN</td>\n      <td>Swimming</td>\n      <td>FATAL</td>\n      <td>Y</td>\n      <td>NaN</td>\n    </tr>\n    <tr>\n      <th>1751-07-27</th>\n      <td>USA</td>\n      <td>Massachusetts</td>\n      <td>Swimming</td>\n      <td>FATAL</td>\n      <td>Y</td>\n      <td>NaN</td>\n    </tr>\n    <tr>\n      <th>1753-10-27</th>\n      <td>JAMAICA</td>\n      <td>NaN</td>\n      <td>Fell overboard</td>\n      <td>FATAL</td>\n      <td>Y</td>\n      <td>NaN</td>\n    </tr>\n  </tbody>\n</table>\n</div>"
     },
     "metadata": {},
     "execution_count": 11
    }
   ],
   "source": [
    "sharks.head()"
   ]
  },
  {
   "cell_type": "code",
   "execution_count": 12,
   "metadata": {
    "tags": []
   },
   "outputs": [],
   "source": [
    "# clean country and area columns\n",
    "sharks.loc[:, \"Country\":\"Area\"] = sharks.loc[:, \"Country\":\"Area\"].transform(lambda series: series.str.strip().str.title())"
   ]
  },
  {
   "cell_type": "code",
   "execution_count": 13,
   "metadata": {},
   "outputs": [
    {
     "output_type": "execute_result",
     "data": {
      "text/plain": "array(['N', 'Y', nan, 'UNKNOWN', ' N', '2017', 'M'], dtype=object)"
     },
     "metadata": {},
     "execution_count": 13
    }
   ],
   "source": [
    "sharks[\"Fatal\"].unique()"
   ]
  },
  {
   "cell_type": "code",
   "execution_count": 14,
   "metadata": {},
   "outputs": [],
   "source": [
    "sharks[\"Fatal\"].replace({\"UNKNOWN\": np.nan, \" N\": \"N\", \"2017\": np.nan, \"M\": \"N\"}, inplace=True)"
   ]
  },
  {
   "cell_type": "code",
   "execution_count": 15,
   "metadata": {},
   "outputs": [
    {
     "output_type": "execute_result",
     "data": {
      "text/plain": "White shark                                           143\nShark involvement prior to death was not confirmed     97\nShark involvement not confirmed                        81\nInvalid                                                81\nShark involvement prior to death unconfirmed           56\n                                                     ... \nWhite shark, 4.2 m [13'9\"]                              1\nBull shark, 400-lb                                      1\nTiger shark, 2.1 m [7']                                 1\nWhite shark, 15' to 16'                                 1\n1 m shark, possibly whitetip reef shark                 1\nName: Species, Length: 1413, dtype: int64"
     },
     "metadata": {},
     "execution_count": 15
    }
   ],
   "source": [
    "sharks[\"Species\"].value_counts()"
   ]
  },
  {
   "cell_type": "code",
   "execution_count": 16,
   "metadata": {},
   "outputs": [
    {
     "output_type": "execute_result",
     "data": {
      "text/plain": "White Shark           578\nTiger Shark           229\nBull Shark            156\nNurse Shark            86\nWhaler Shark           63\n                     ... \nUnidentified Shark      1\nSaw Shark               1\nBonnethed Shark         1\nWhiptail Shark          1\nHooked Shark            1\nName: Species, Length: 89, dtype: int64"
     },
     "metadata": {},
     "execution_count": 16
    }
   ],
   "source": [
    "sharks[\"Species\"] = sharks[\"Species\"].str.extract(\"(\\w{2,15} shark)\", expand=False).str.title()\n",
    "sharks[\"Species\"].value_counts()"
   ]
  },
  {
   "cell_type": "code",
   "execution_count": 17,
   "metadata": {
    "tags": []
   },
   "outputs": [
    {
     "output_type": "stream",
     "name": "stdout",
     "text": "<class 'pandas.core.frame.DataFrame'>\nDatetimeIndex: 5348 entries, 1703-03-26 to 2018-06-25\nData columns (total 6 columns):\n #   Column    Non-Null Count  Dtype \n---  ------    --------------  ----- \n 0   Country   5319 non-null   object\n 1   Area      5045 non-null   object\n 2   Activity  4970 non-null   object\n 3   Injury    5332 non-null   object\n 4   Fatal     4848 non-null   object\n 5   Species   1840 non-null   object\ndtypes: object(6)\nmemory usage: 292.5+ KB\n"
    }
   ],
   "source": [
    "sharks.info()"
   ]
  },
  {
   "cell_type": "code",
   "execution_count": 18,
   "metadata": {
    "tags": []
   },
   "outputs": [
    {
     "output_type": "stream",
     "name": "stdout",
     "text": "Number of rows after cleaning: 5156\n"
    }
   ],
   "source": [
    "# keep entries with at least 4 non-null values \n",
    "sharks.dropna(thresh=4, inplace=True)\n",
    "print(f\"Number of rows after cleaning: {sharks.shape[0]}\")"
   ]
  },
  {
   "cell_type": "code",
   "execution_count": 19,
   "metadata": {},
   "outputs": [],
   "source": [
    "# export csv\n",
    "sharks.to_csv(\"../output/sharks_clean.csv\")"
   ]
  }
 ]
}