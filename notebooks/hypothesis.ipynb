{
 "metadata": {
  "language_info": {
   "codemirror_mode": {
    "name": "ipython",
    "version": 3
   },
   "file_extension": ".py",
   "mimetype": "text/x-python",
   "name": "python",
   "nbconvert_exporter": "python",
   "pygments_lexer": "ipython3",
   "version": "3.8.5-final"
  },
  "orig_nbformat": 2,
  "kernelspec": {
   "name": "python_defaultSpec_1598915032013",
   "display_name": "Python 3.8.5 64-bit ('ih': conda)"
  }
 },
 "nbformat": 4,
 "nbformat_minor": 2,
 "cells": [
  {
   "cell_type": "code",
   "execution_count": 1,
   "metadata": {},
   "outputs": [],
   "source": [
    "import pandas as pd\n",
    "from src.myfuncs import infer_season"
   ]
  },
  {
   "cell_type": "code",
   "execution_count": 2,
   "metadata": {
    "tags": []
   },
   "outputs": [
    {
     "output_type": "stream",
     "name": "stdout",
     "text": "<class 'pandas.core.frame.DataFrame'>\nDatetimeIndex: 5156 entries, 1703-03-26 to 2018-06-25\nData columns (total 6 columns):\n #   Column    Non-Null Count  Dtype \n---  ------    --------------  ----- \n 0   Country   5149 non-null   object\n 1   Area      4932 non-null   object\n 2   Activity  4924 non-null   object\n 3   Injury    5155 non-null   object\n 4   Fatal     4807 non-null   object\n 5   Species   1838 non-null   object\ndtypes: object(6)\nmemory usage: 282.0+ KB\n"
    }
   ],
   "source": [
    "sharks = pd.read_csv(\"../output/sharks_clean.csv\")\n",
    "sharks.index = pd.to_datetime(sharks[\"Date\"])\n",
    "sharks.drop(columns=\"Date\", inplace=True)\n",
    "sharks.info()"
   ]
  },
  {
   "cell_type": "code",
   "execution_count": 3,
   "metadata": {},
   "outputs": [
    {
     "output_type": "execute_result",
     "data": {
      "text/plain": "             Country             Area        Activity  \\\nDate                                                    \n1703-03-26  Barbados  Southwest Coast        Swimming   \n1738-04-06     Italy           Sicily        Swimming   \n1751-07-27       Usa    Massachusetts        Swimming   \n1753-10-27   Jamaica              NaN  Fell overboard   \n1771-07-12       Usa              NaN         Fishing   \n\n                                                       Injury Fatal Species  \\\nDate                                                                          \n1703-03-26  Hand and foot severely bitten, surgically ampu...     N     NaN   \n1738-04-06                                              FATAL     Y     NaN   \n1751-07-27                                              FATAL     Y     NaN   \n1753-10-27                                              FATAL     Y     NaN   \n1771-07-12                                              FATAL     Y     NaN   \n\n            Season  \nDate                \n1703-03-26  Spring  \n1738-04-06  Spring  \n1751-07-27  Summer  \n1753-10-27  Autumn  \n1771-07-12  Summer  ",
      "text/html": "<div>\n<style scoped>\n    .dataframe tbody tr th:only-of-type {\n        vertical-align: middle;\n    }\n\n    .dataframe tbody tr th {\n        vertical-align: top;\n    }\n\n    .dataframe thead th {\n        text-align: right;\n    }\n</style>\n<table border=\"1\" class=\"dataframe\">\n  <thead>\n    <tr style=\"text-align: right;\">\n      <th></th>\n      <th>Country</th>\n      <th>Area</th>\n      <th>Activity</th>\n      <th>Injury</th>\n      <th>Fatal</th>\n      <th>Species</th>\n      <th>Season</th>\n    </tr>\n    <tr>\n      <th>Date</th>\n      <th></th>\n      <th></th>\n      <th></th>\n      <th></th>\n      <th></th>\n      <th></th>\n      <th></th>\n    </tr>\n  </thead>\n  <tbody>\n    <tr>\n      <th>1703-03-26</th>\n      <td>Barbados</td>\n      <td>Southwest Coast</td>\n      <td>Swimming</td>\n      <td>Hand and foot severely bitten, surgically ampu...</td>\n      <td>N</td>\n      <td>NaN</td>\n      <td>Spring</td>\n    </tr>\n    <tr>\n      <th>1738-04-06</th>\n      <td>Italy</td>\n      <td>Sicily</td>\n      <td>Swimming</td>\n      <td>FATAL</td>\n      <td>Y</td>\n      <td>NaN</td>\n      <td>Spring</td>\n    </tr>\n    <tr>\n      <th>1751-07-27</th>\n      <td>Usa</td>\n      <td>Massachusetts</td>\n      <td>Swimming</td>\n      <td>FATAL</td>\n      <td>Y</td>\n      <td>NaN</td>\n      <td>Summer</td>\n    </tr>\n    <tr>\n      <th>1753-10-27</th>\n      <td>Jamaica</td>\n      <td>NaN</td>\n      <td>Fell overboard</td>\n      <td>FATAL</td>\n      <td>Y</td>\n      <td>NaN</td>\n      <td>Autumn</td>\n    </tr>\n    <tr>\n      <th>1771-07-12</th>\n      <td>Usa</td>\n      <td>NaN</td>\n      <td>Fishing</td>\n      <td>FATAL</td>\n      <td>Y</td>\n      <td>NaN</td>\n      <td>Summer</td>\n    </tr>\n  </tbody>\n</table>\n</div>"
     },
     "metadata": {},
     "execution_count": 3
    }
   ],
   "source": [
    "sharks[\"Season\"] = infer_season(sharks.index)\n",
    "sharks.head()"
   ]
  },
  {
   "cell_type": "code",
   "execution_count": 4,
   "metadata": {},
   "outputs": [
    {
     "output_type": "execute_result",
     "data": {
      "text/plain": "Country         Activity                                                                             \nAtlantic Ocean  The 6015-ton British ship Empire Avocet was torpedoed by the German submarine U-125.       1\nSouth Africa    Thrashing the water / imitating the shark victim from \"Jaws\"                               1\n                Swimming with board                                                                        1\n                Surf-skiing                                                                                1\n                Surf fishing                                                                               1\n                                                                                                        ... \nUsa             Fishing                                                                                   21\n                Wading                                                                                    22\nAustralia       Surfing                                                                                   43\nUsa             Swimming                                                                                  45\n                Surfing                                                                                  223\nName: Season, Length: 358, dtype: int64"
     },
     "metadata": {},
     "execution_count": 4
    }
   ],
   "source": [
    "non_fatal = sharks[(sharks[\"Fatal\"] == \"N\") & (sharks[\"Season\"] == \"Autumn\")]\n",
    "non_fatal.groupby([\"Country\", \"Activity\"])[\"Season\"].count().sort_values()"
   ]
  },
  {
   "cell_type": "code",
   "execution_count": 5,
   "metadata": {},
   "outputs": [
    {
     "output_type": "execute_result",
     "data": {
      "text/plain": "              Total\nCountry            \nAustralia        19\nSouth Africa     12\nNew Zealand       3\nFiji              2\nUsa               1",
      "text/html": "<div>\n<style scoped>\n    .dataframe tbody tr th:only-of-type {\n        vertical-align: middle;\n    }\n\n    .dataframe tbody tr th {\n        vertical-align: top;\n    }\n\n    .dataframe thead th {\n        text-align: right;\n    }\n</style>\n<table border=\"1\" class=\"dataframe\">\n  <thead>\n    <tr style=\"text-align: right;\">\n      <th></th>\n      <th>Total</th>\n    </tr>\n    <tr>\n      <th>Country</th>\n      <th></th>\n    </tr>\n  </thead>\n  <tbody>\n    <tr>\n      <th>Australia</th>\n      <td>19</td>\n    </tr>\n    <tr>\n      <th>South Africa</th>\n      <td>12</td>\n    </tr>\n    <tr>\n      <th>New Zealand</th>\n      <td>3</td>\n    </tr>\n    <tr>\n      <th>Fiji</th>\n      <td>2</td>\n    </tr>\n    <tr>\n      <th>Usa</th>\n      <td>1</td>\n    </tr>\n  </tbody>\n</table>\n</div>"
     },
     "metadata": {},
     "execution_count": 5
    }
   ],
   "source": [
    "sharks = sharks[\"1901\":\"2000\"]\n",
    "hypothesis = sharks[(sharks[\"Fatal\"] == \"N\") & (sharks[\"Activity\"] == \"Spearfishing\") & (sharks[\"Season\"] == \"Winter\")].groupby(\"Country\")[\"Season\"].count()\n",
    "hypothesis.name = \"Total\"\n",
    "hypothesis = hypothesis.sort_values(ascending=False).reset_index().set_index(\"Country\")\n",
    "hypothesis.head()"
   ]
  }
 ]
}